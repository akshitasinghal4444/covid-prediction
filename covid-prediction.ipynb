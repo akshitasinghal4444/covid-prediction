{
 "cells": [
  {
   "cell_type": "markdown",
   "id": "737a9d42",
   "metadata": {},
   "source": [
    "# PREDICTING COVID-19 DISEASE FROM SYMPTOMS USING ML\n",
    "\n",
    "THIS NOTEBOOK USES VARIOUS PYTHON-BASED ML AND DATA SCIENCE LIBRARIES IN AN ATTEMPT TO BUILD A ML MODEL CAPABLE OF PREDICTING WHETHER OR NOT SOMEONE HAS COVID BASED ON THEIR MEDICAL ATTRIBUTES .\n",
    "\n",
    "-------------------------------------------------------------------------------------------------------------------------------"
   ]
  },
  {
   "cell_type": "markdown",
   "id": "5a94ffe5",
   "metadata": {},
   "source": [
    "#  Problem Statement\n",
    "> Given clinical parameters about a patient , can we predict whether or not they have covid 19"
   ]
  },
  {
   "cell_type": "markdown",
   "id": "e7512273",
   "metadata": {},
   "source": [
    "# Data Availability\n",
    ">All the data used in this study were retrieved from the Israeli Ministry of Health website11. The dataset was downloaded, translated into English, and can be accessed at: https://github.com/nshomron/covidpred/blob/master/data/corona_tested_individuals_ver_0083.english.csv.zip\n",
    "\n",
    ">The original version of dataset was downloaded from https://data.gov.il/dataset/covid-19 on November 15, 2020 and translated into English"
   ]
  },
  {
   "cell_type": "markdown",
   "id": "cb83331e",
   "metadata": {},
   "source": [
    "# Model Predictors/Features and Exact Variable Names (True = 1, False = 0)\n",
    "1. Age over 60 - Age_60_and_above\n",
    "2. Sex - (Male=1, Female=0)\n",
    "3. Cough - Cough\n",
    "4. Shortness of breath - Shortness_of_breath\n",
    "5. Fever - Fever\n",
    "6. Sore throat - Sore_throat\n",
    "7. Headache - Headache\n",
    "8. Contact with a confirmed individual - Contact_with_confirmed"
   ]
  },
  {
   "cell_type": "markdown",
   "id": "08f517dc",
   "metadata": {},
   "source": [
    "-------------------------------------------------------------------------------------------------------------------------------"
   ]
  },
  {
   "cell_type": "markdown",
   "id": "341b6a16",
   "metadata": {},
   "source": [
    "# Preparing the tools\n",
    "We are going to use pandas , numpy , matplotlib and sklearn for data analysis and manipulation."
   ]
  },
  {
   "cell_type": "markdown",
   "id": "44138c49",
   "metadata": {},
   "source": [
    "### Import all tools"
   ]
  },
  {
   "cell_type": "code",
   "execution_count": 2,
   "id": "1102c736",
   "metadata": {},
   "outputs": [],
   "source": [
    "# regular EDA (exploratory data analysis) and plotting libraries\n",
    "import numpy as np\n",
    "import pandas as pd\n",
    "import matplotlib.pyplot as plt\n",
    "import seaborn as sns\n",
    "\n",
    "# we want our plots to appear inside the notebook\n",
    "%matplotlib inline \n",
    "\n",
    "# managing data\n",
    "from sklearn.preprocessing import OneHotEncoder,LabelEncoder\n",
    "\n",
    "# models from sk-learn\n",
    "from sklearn.linear_model import LogisticRegression\n",
    "from sklearn.neighbors import KNeighborsClassifier\n",
    "from sklearn.ensemble import RandomForestClassifier\n",
    "from sklearn.tree import DecisionTreeClassifier\n",
    "from sklearn.naive_bayes import GaussianNB\n",
    "from sklearn.linear_model import SGDClassifier\n",
    "from sklearn.svm import SVC\n",
    "\n",
    "# model-evaluation\n",
    "from sklearn.model_selection import train_test_split\n",
    "from sklearn.model_selection import cross_val_score\n",
    "from sklearn.model_selection import RandomizedSearchCV , GridSearchCV\n",
    "from sklearn.metrics import confusion_matrix , classification_report\n",
    "from sklearn.metrics import precision_score,recall_score,f1_score,plot_roc_curve"
   ]
  },
  {
   "cell_type": "markdown",
   "id": "76cea4c2",
   "metadata": {},
   "source": [
    "# Loading Data"
   ]
  },
  {
   "cell_type": "code",
   "execution_count": 3,
   "id": "ce41ee97",
   "metadata": {},
   "outputs": [
    {
     "name": "stderr",
     "output_type": "stream",
     "text": [
      "C:\\Users\\sunshine\\Desktop\\ml_and_data_sciene\\sample\\env\\lib\\site-packages\\IPython\\core\\interactiveshell.py:3165: DtypeWarning: Columns (7) have mixed types.Specify dtype option on import or set low_memory=False.\n",
      "  has_raised = await self.run_ast_nodes(code_ast.body, cell_name,\n"
     ]
    },
    {
     "data": {
      "text/html": [
       "<div>\n",
       "<style scoped>\n",
       "    .dataframe tbody tr th:only-of-type {\n",
       "        vertical-align: middle;\n",
       "    }\n",
       "\n",
       "    .dataframe tbody tr th {\n",
       "        vertical-align: top;\n",
       "    }\n",
       "\n",
       "    .dataframe thead th {\n",
       "        text-align: right;\n",
       "    }\n",
       "</style>\n",
       "<table border=\"1\" class=\"dataframe\">\n",
       "  <thead>\n",
       "    <tr style=\"text-align: right;\">\n",
       "      <th></th>\n",
       "      <th>test_date</th>\n",
       "      <th>cough</th>\n",
       "      <th>fever</th>\n",
       "      <th>sore_throat</th>\n",
       "      <th>shortness_of_breath</th>\n",
       "      <th>head_ache</th>\n",
       "      <th>corona_result</th>\n",
       "      <th>age_60_and_above</th>\n",
       "      <th>gender</th>\n",
       "      <th>test_indication</th>\n",
       "    </tr>\n",
       "  </thead>\n",
       "  <tbody>\n",
       "    <tr>\n",
       "      <th>0</th>\n",
       "      <td>2020-11-12</td>\n",
       "      <td>0</td>\n",
       "      <td>0</td>\n",
       "      <td>0</td>\n",
       "      <td>0</td>\n",
       "      <td>0</td>\n",
       "      <td>negative</td>\n",
       "      <td>No</td>\n",
       "      <td>male</td>\n",
       "      <td>Other</td>\n",
       "    </tr>\n",
       "    <tr>\n",
       "      <th>1</th>\n",
       "      <td>2020-11-12</td>\n",
       "      <td>0</td>\n",
       "      <td>1</td>\n",
       "      <td>0</td>\n",
       "      <td>0</td>\n",
       "      <td>0</td>\n",
       "      <td>negative</td>\n",
       "      <td>No</td>\n",
       "      <td>male</td>\n",
       "      <td>Other</td>\n",
       "    </tr>\n",
       "    <tr>\n",
       "      <th>2</th>\n",
       "      <td>2020-11-12</td>\n",
       "      <td>0</td>\n",
       "      <td>0</td>\n",
       "      <td>0</td>\n",
       "      <td>0</td>\n",
       "      <td>0</td>\n",
       "      <td>negative</td>\n",
       "      <td>Yes</td>\n",
       "      <td>female</td>\n",
       "      <td>Other</td>\n",
       "    </tr>\n",
       "    <tr>\n",
       "      <th>3</th>\n",
       "      <td>2020-11-12</td>\n",
       "      <td>0</td>\n",
       "      <td>0</td>\n",
       "      <td>0</td>\n",
       "      <td>0</td>\n",
       "      <td>0</td>\n",
       "      <td>negative</td>\n",
       "      <td>No</td>\n",
       "      <td>male</td>\n",
       "      <td>Other</td>\n",
       "    </tr>\n",
       "    <tr>\n",
       "      <th>4</th>\n",
       "      <td>2020-11-12</td>\n",
       "      <td>0</td>\n",
       "      <td>1</td>\n",
       "      <td>0</td>\n",
       "      <td>0</td>\n",
       "      <td>0</td>\n",
       "      <td>negative</td>\n",
       "      <td>No</td>\n",
       "      <td>male</td>\n",
       "      <td>Contact with confirmed</td>\n",
       "    </tr>\n",
       "    <tr>\n",
       "      <th>...</th>\n",
       "      <td>...</td>\n",
       "      <td>...</td>\n",
       "      <td>...</td>\n",
       "      <td>...</td>\n",
       "      <td>...</td>\n",
       "      <td>...</td>\n",
       "      <td>...</td>\n",
       "      <td>...</td>\n",
       "      <td>...</td>\n",
       "      <td>...</td>\n",
       "    </tr>\n",
       "    <tr>\n",
       "      <th>2742591</th>\n",
       "      <td>2020-03-11</td>\n",
       "      <td>0</td>\n",
       "      <td>0</td>\n",
       "      <td>0</td>\n",
       "      <td>0</td>\n",
       "      <td>0</td>\n",
       "      <td>negative</td>\n",
       "      <td>NaN</td>\n",
       "      <td>female</td>\n",
       "      <td>Other</td>\n",
       "    </tr>\n",
       "    <tr>\n",
       "      <th>2742592</th>\n",
       "      <td>2020-03-11</td>\n",
       "      <td>0</td>\n",
       "      <td>0</td>\n",
       "      <td>0</td>\n",
       "      <td>0</td>\n",
       "      <td>0</td>\n",
       "      <td>negative</td>\n",
       "      <td>NaN</td>\n",
       "      <td>female</td>\n",
       "      <td>Other</td>\n",
       "    </tr>\n",
       "    <tr>\n",
       "      <th>2742593</th>\n",
       "      <td>2020-03-11</td>\n",
       "      <td>0</td>\n",
       "      <td>0</td>\n",
       "      <td>0</td>\n",
       "      <td>0</td>\n",
       "      <td>0</td>\n",
       "      <td>other</td>\n",
       "      <td>NaN</td>\n",
       "      <td>male</td>\n",
       "      <td>Other</td>\n",
       "    </tr>\n",
       "    <tr>\n",
       "      <th>2742594</th>\n",
       "      <td>2020-03-11</td>\n",
       "      <td>0</td>\n",
       "      <td>0</td>\n",
       "      <td>0</td>\n",
       "      <td>0</td>\n",
       "      <td>0</td>\n",
       "      <td>negative</td>\n",
       "      <td>NaN</td>\n",
       "      <td>female</td>\n",
       "      <td>Other</td>\n",
       "    </tr>\n",
       "    <tr>\n",
       "      <th>2742595</th>\n",
       "      <td>2020-03-11</td>\n",
       "      <td>0</td>\n",
       "      <td>1</td>\n",
       "      <td>0</td>\n",
       "      <td>0</td>\n",
       "      <td>0</td>\n",
       "      <td>negative</td>\n",
       "      <td>NaN</td>\n",
       "      <td>male</td>\n",
       "      <td>Other</td>\n",
       "    </tr>\n",
       "  </tbody>\n",
       "</table>\n",
       "<p>2742596 rows × 10 columns</p>\n",
       "</div>"
      ],
      "text/plain": [
       "          test_date  cough  fever  sore_throat  shortness_of_breath  \\\n",
       "0        2020-11-12      0      0            0                    0   \n",
       "1        2020-11-12      0      1            0                    0   \n",
       "2        2020-11-12      0      0            0                    0   \n",
       "3        2020-11-12      0      0            0                    0   \n",
       "4        2020-11-12      0      1            0                    0   \n",
       "...             ...    ...    ...          ...                  ...   \n",
       "2742591  2020-03-11      0      0            0                    0   \n",
       "2742592  2020-03-11      0      0            0                    0   \n",
       "2742593  2020-03-11      0      0            0                    0   \n",
       "2742594  2020-03-11      0      0            0                    0   \n",
       "2742595  2020-03-11      0      1            0                    0   \n",
       "\n",
       "         head_ache corona_result age_60_and_above  gender  \\\n",
       "0                0      negative               No    male   \n",
       "1                0      negative               No    male   \n",
       "2                0      negative              Yes  female   \n",
       "3                0      negative               No    male   \n",
       "4                0      negative               No    male   \n",
       "...            ...           ...              ...     ...   \n",
       "2742591          0      negative              NaN  female   \n",
       "2742592          0      negative              NaN  female   \n",
       "2742593          0         other              NaN    male   \n",
       "2742594          0      negative              NaN  female   \n",
       "2742595          0      negative              NaN    male   \n",
       "\n",
       "                test_indication  \n",
       "0                         Other  \n",
       "1                         Other  \n",
       "2                         Other  \n",
       "3                         Other  \n",
       "4        Contact with confirmed  \n",
       "...                         ...  \n",
       "2742591                   Other  \n",
       "2742592                   Other  \n",
       "2742593                   Other  \n",
       "2742594                   Other  \n",
       "2742595                   Other  \n",
       "\n",
       "[2742596 rows x 10 columns]"
      ]
     },
     "execution_count": 3,
     "metadata": {},
     "output_type": "execute_result"
    }
   ],
   "source": [
    "df=pd.read_csv(\"datasets/corona_tested_individuals_ver_0083.english.csv\")\n",
    "df"
   ]
  },
  {
   "cell_type": "markdown",
   "id": "a1d4ced2",
   "metadata": {},
   "source": [
    "# Setting up our required data"
   ]
  },
  {
   "cell_type": "markdown",
   "id": "36c9681a",
   "metadata": {},
   "source": [
    "## Removing rows with missing and duplicate values "
   ]
  },
  {
   "cell_type": "code",
   "execution_count": 4,
   "id": "f1dffedc",
   "metadata": {},
   "outputs": [
    {
     "data": {
      "text/html": [
       "<div>\n",
       "<style scoped>\n",
       "    .dataframe tbody tr th:only-of-type {\n",
       "        vertical-align: middle;\n",
       "    }\n",
       "\n",
       "    .dataframe tbody tr th {\n",
       "        vertical-align: top;\n",
       "    }\n",
       "\n",
       "    .dataframe thead th {\n",
       "        text-align: right;\n",
       "    }\n",
       "</style>\n",
       "<table border=\"1\" class=\"dataframe\">\n",
       "  <thead>\n",
       "    <tr style=\"text-align: right;\">\n",
       "      <th></th>\n",
       "      <th>test_date</th>\n",
       "      <th>cough</th>\n",
       "      <th>fever</th>\n",
       "      <th>sore_throat</th>\n",
       "      <th>shortness_of_breath</th>\n",
       "      <th>head_ache</th>\n",
       "      <th>corona_result</th>\n",
       "      <th>age_60_and_above</th>\n",
       "      <th>gender</th>\n",
       "      <th>test_indication</th>\n",
       "    </tr>\n",
       "  </thead>\n",
       "  <tbody>\n",
       "    <tr>\n",
       "      <th>0</th>\n",
       "      <td>2020-11-12</td>\n",
       "      <td>0</td>\n",
       "      <td>0</td>\n",
       "      <td>0</td>\n",
       "      <td>0</td>\n",
       "      <td>0</td>\n",
       "      <td>negative</td>\n",
       "      <td>No</td>\n",
       "      <td>male</td>\n",
       "      <td>Other</td>\n",
       "    </tr>\n",
       "    <tr>\n",
       "      <th>1</th>\n",
       "      <td>2020-11-12</td>\n",
       "      <td>0</td>\n",
       "      <td>1</td>\n",
       "      <td>0</td>\n",
       "      <td>0</td>\n",
       "      <td>0</td>\n",
       "      <td>negative</td>\n",
       "      <td>No</td>\n",
       "      <td>male</td>\n",
       "      <td>Other</td>\n",
       "    </tr>\n",
       "    <tr>\n",
       "      <th>2</th>\n",
       "      <td>2020-11-12</td>\n",
       "      <td>0</td>\n",
       "      <td>0</td>\n",
       "      <td>0</td>\n",
       "      <td>0</td>\n",
       "      <td>0</td>\n",
       "      <td>negative</td>\n",
       "      <td>Yes</td>\n",
       "      <td>female</td>\n",
       "      <td>Other</td>\n",
       "    </tr>\n",
       "    <tr>\n",
       "      <th>4</th>\n",
       "      <td>2020-11-12</td>\n",
       "      <td>0</td>\n",
       "      <td>1</td>\n",
       "      <td>0</td>\n",
       "      <td>0</td>\n",
       "      <td>0</td>\n",
       "      <td>negative</td>\n",
       "      <td>No</td>\n",
       "      <td>male</td>\n",
       "      <td>Contact with confirmed</td>\n",
       "    </tr>\n",
       "    <tr>\n",
       "      <th>5</th>\n",
       "      <td>2020-11-12</td>\n",
       "      <td>1</td>\n",
       "      <td>0</td>\n",
       "      <td>0</td>\n",
       "      <td>0</td>\n",
       "      <td>0</td>\n",
       "      <td>negative</td>\n",
       "      <td>No</td>\n",
       "      <td>male</td>\n",
       "      <td>Other</td>\n",
       "    </tr>\n",
       "    <tr>\n",
       "      <th>...</th>\n",
       "      <td>...</td>\n",
       "      <td>...</td>\n",
       "      <td>...</td>\n",
       "      <td>...</td>\n",
       "      <td>...</td>\n",
       "      <td>...</td>\n",
       "      <td>...</td>\n",
       "      <td>...</td>\n",
       "      <td>...</td>\n",
       "      <td>...</td>\n",
       "    </tr>\n",
       "    <tr>\n",
       "      <th>2731618</th>\n",
       "      <td>2020-03-20</td>\n",
       "      <td>0</td>\n",
       "      <td>0</td>\n",
       "      <td>0</td>\n",
       "      <td>0</td>\n",
       "      <td>0</td>\n",
       "      <td>negative</td>\n",
       "      <td>Yes</td>\n",
       "      <td>male</td>\n",
       "      <td>Contact with confirmed</td>\n",
       "    </tr>\n",
       "    <tr>\n",
       "      <th>2731620</th>\n",
       "      <td>2020-03-20</td>\n",
       "      <td>0</td>\n",
       "      <td>0</td>\n",
       "      <td>1</td>\n",
       "      <td>1</td>\n",
       "      <td>0</td>\n",
       "      <td>positive</td>\n",
       "      <td>No</td>\n",
       "      <td>female</td>\n",
       "      <td>Contact with confirmed</td>\n",
       "    </tr>\n",
       "    <tr>\n",
       "      <th>2731622</th>\n",
       "      <td>2020-03-20</td>\n",
       "      <td>1</td>\n",
       "      <td>0</td>\n",
       "      <td>0</td>\n",
       "      <td>1</td>\n",
       "      <td>0</td>\n",
       "      <td>positive</td>\n",
       "      <td>Yes</td>\n",
       "      <td>female</td>\n",
       "      <td>Contact with confirmed</td>\n",
       "    </tr>\n",
       "    <tr>\n",
       "      <th>2731634</th>\n",
       "      <td>2020-03-20</td>\n",
       "      <td>1</td>\n",
       "      <td>0</td>\n",
       "      <td>1</td>\n",
       "      <td>0</td>\n",
       "      <td>1</td>\n",
       "      <td>negative</td>\n",
       "      <td>No</td>\n",
       "      <td>female</td>\n",
       "      <td>Contact with confirmed</td>\n",
       "    </tr>\n",
       "    <tr>\n",
       "      <th>2731636</th>\n",
       "      <td>2020-03-20</td>\n",
       "      <td>1</td>\n",
       "      <td>0</td>\n",
       "      <td>0</td>\n",
       "      <td>1</td>\n",
       "      <td>1</td>\n",
       "      <td>positive</td>\n",
       "      <td>No</td>\n",
       "      <td>male</td>\n",
       "      <td>Contact with confirmed</td>\n",
       "    </tr>\n",
       "  </tbody>\n",
       "</table>\n",
       "<p>36734 rows × 10 columns</p>\n",
       "</div>"
      ],
      "text/plain": [
       "          test_date  cough  fever  sore_throat  shortness_of_breath  \\\n",
       "0        2020-11-12      0      0            0                    0   \n",
       "1        2020-11-12      0      1            0                    0   \n",
       "2        2020-11-12      0      0            0                    0   \n",
       "4        2020-11-12      0      1            0                    0   \n",
       "5        2020-11-12      1      0            0                    0   \n",
       "...             ...    ...    ...          ...                  ...   \n",
       "2731618  2020-03-20      0      0            0                    0   \n",
       "2731620  2020-03-20      0      0            1                    1   \n",
       "2731622  2020-03-20      1      0            0                    1   \n",
       "2731634  2020-03-20      1      0            1                    0   \n",
       "2731636  2020-03-20      1      0            0                    1   \n",
       "\n",
       "         head_ache corona_result age_60_and_above  gender  \\\n",
       "0                0      negative               No    male   \n",
       "1                0      negative               No    male   \n",
       "2                0      negative              Yes  female   \n",
       "4                0      negative               No    male   \n",
       "5                0      negative               No    male   \n",
       "...            ...           ...              ...     ...   \n",
       "2731618          0      negative              Yes    male   \n",
       "2731620          0      positive               No  female   \n",
       "2731622          0      positive              Yes  female   \n",
       "2731634          1      negative               No  female   \n",
       "2731636          1      positive               No    male   \n",
       "\n",
       "                test_indication  \n",
       "0                         Other  \n",
       "1                         Other  \n",
       "2                         Other  \n",
       "4        Contact with confirmed  \n",
       "5                         Other  \n",
       "...                         ...  \n",
       "2731618  Contact with confirmed  \n",
       "2731620  Contact with confirmed  \n",
       "2731622  Contact with confirmed  \n",
       "2731634  Contact with confirmed  \n",
       "2731636  Contact with confirmed  \n",
       "\n",
       "[36734 rows x 10 columns]"
      ]
     },
     "execution_count": 4,
     "metadata": {},
     "output_type": "execute_result"
    }
   ],
   "source": [
    "df.dropna(inplace=True)\n",
    "df.drop_duplicates(inplace=True)\n",
    "df"
   ]
  },
  {
   "cell_type": "markdown",
   "id": "9ce9b48a",
   "metadata": {},
   "source": [
    "**<font color=\"green\"> We observe that original data contained `2742596 rows × 10 columns` , but now after removing rows with missing or duplicate data , we are left with only `36734 rows × 10 columns`. </font>**"
   ]
  },
  {
   "cell_type": "markdown",
   "id": "5c70bf53",
   "metadata": {},
   "source": [
    "## Removing rows with corona_result=other"
   ]
  },
  {
   "cell_type": "code",
   "execution_count": 5,
   "id": "58405b70",
   "metadata": {},
   "outputs": [
    {
     "data": {
      "text/plain": [
       "positive    19867\n",
       "negative    13550\n",
       "other        3317\n",
       "Name: corona_result, dtype: int64"
      ]
     },
     "execution_count": 5,
     "metadata": {},
     "output_type": "execute_result"
    }
   ],
   "source": [
    "df[\"corona_result\"].value_counts()"
   ]
  },
  {
   "cell_type": "code",
   "execution_count": 6,
   "id": "461992c0",
   "metadata": {},
   "outputs": [
    {
     "data": {
      "text/plain": [
       "positive    19867\n",
       "negative    13550\n",
       "Name: corona_result, dtype: int64"
      ]
     },
     "execution_count": 6,
     "metadata": {},
     "output_type": "execute_result"
    }
   ],
   "source": [
    "index_names=df[df[\"corona_result\"]==\"other\"].index\n",
    "df.drop(index_names,inplace=True)\n",
    "df[\"corona_result\"].value_counts()"
   ]
  },
  {
   "cell_type": "code",
   "execution_count": 7,
   "id": "e47415b6",
   "metadata": {},
   "outputs": [
    {
     "data": {
      "text/plain": [
       "(33417, 10)"
      ]
     },
     "execution_count": 7,
     "metadata": {},
     "output_type": "execute_result"
    }
   ],
   "source": [
    "df.shape"
   ]
  },
  {
   "cell_type": "markdown",
   "id": "70ce215c",
   "metadata": {},
   "source": [
    "**<font color=\"green\"> Now , we are left with only `33417 rows × 10 columns`. </font>**"
   ]
  },
  {
   "cell_type": "markdown",
   "id": "eecb3394",
   "metadata": {},
   "source": [
    "## Managing the types of data\n",
    "We have to make sure that the data is numerical for better working of our model , so we will turn all categorical data into numerical columns ."
   ]
  },
  {
   "cell_type": "code",
   "execution_count": 8,
   "id": "40564591",
   "metadata": {},
   "outputs": [
    {
     "data": {
      "text/plain": [
       "test_date              object\n",
       "cough                   int64\n",
       "fever                   int64\n",
       "sore_throat             int64\n",
       "shortness_of_breath     int64\n",
       "head_ache               int64\n",
       "corona_result          object\n",
       "age_60_and_above       object\n",
       "gender                 object\n",
       "test_indication        object\n",
       "dtype: object"
      ]
     },
     "execution_count": 8,
     "metadata": {},
     "output_type": "execute_result"
    }
   ],
   "source": [
    "df.dtypes"
   ]
  },
  {
   "cell_type": "code",
   "execution_count": 9,
   "id": "29dcc2c2",
   "metadata": {},
   "outputs": [
    {
     "data": {
      "text/html": [
       "<div>\n",
       "<style scoped>\n",
       "    .dataframe tbody tr th:only-of-type {\n",
       "        vertical-align: middle;\n",
       "    }\n",
       "\n",
       "    .dataframe tbody tr th {\n",
       "        vertical-align: top;\n",
       "    }\n",
       "\n",
       "    .dataframe thead th {\n",
       "        text-align: right;\n",
       "    }\n",
       "</style>\n",
       "<table border=\"1\" class=\"dataframe\">\n",
       "  <thead>\n",
       "    <tr style=\"text-align: right;\">\n",
       "      <th></th>\n",
       "      <th>test_indication_Abroad</th>\n",
       "      <th>test_indication_Contact with confirmed</th>\n",
       "      <th>test_indication_Other</th>\n",
       "    </tr>\n",
       "  </thead>\n",
       "  <tbody>\n",
       "    <tr>\n",
       "      <th>0</th>\n",
       "      <td>0</td>\n",
       "      <td>0</td>\n",
       "      <td>1</td>\n",
       "    </tr>\n",
       "    <tr>\n",
       "      <th>1</th>\n",
       "      <td>0</td>\n",
       "      <td>0</td>\n",
       "      <td>1</td>\n",
       "    </tr>\n",
       "    <tr>\n",
       "      <th>2</th>\n",
       "      <td>0</td>\n",
       "      <td>0</td>\n",
       "      <td>1</td>\n",
       "    </tr>\n",
       "    <tr>\n",
       "      <th>4</th>\n",
       "      <td>0</td>\n",
       "      <td>1</td>\n",
       "      <td>0</td>\n",
       "    </tr>\n",
       "    <tr>\n",
       "      <th>5</th>\n",
       "      <td>0</td>\n",
       "      <td>0</td>\n",
       "      <td>1</td>\n",
       "    </tr>\n",
       "    <tr>\n",
       "      <th>...</th>\n",
       "      <td>...</td>\n",
       "      <td>...</td>\n",
       "      <td>...</td>\n",
       "    </tr>\n",
       "    <tr>\n",
       "      <th>2731618</th>\n",
       "      <td>0</td>\n",
       "      <td>1</td>\n",
       "      <td>0</td>\n",
       "    </tr>\n",
       "    <tr>\n",
       "      <th>2731620</th>\n",
       "      <td>0</td>\n",
       "      <td>1</td>\n",
       "      <td>0</td>\n",
       "    </tr>\n",
       "    <tr>\n",
       "      <th>2731622</th>\n",
       "      <td>0</td>\n",
       "      <td>1</td>\n",
       "      <td>0</td>\n",
       "    </tr>\n",
       "    <tr>\n",
       "      <th>2731634</th>\n",
       "      <td>0</td>\n",
       "      <td>1</td>\n",
       "      <td>0</td>\n",
       "    </tr>\n",
       "    <tr>\n",
       "      <th>2731636</th>\n",
       "      <td>0</td>\n",
       "      <td>1</td>\n",
       "      <td>0</td>\n",
       "    </tr>\n",
       "  </tbody>\n",
       "</table>\n",
       "<p>33417 rows × 3 columns</p>\n",
       "</div>"
      ],
      "text/plain": [
       "         test_indication_Abroad  test_indication_Contact with confirmed  \\\n",
       "0                             0                                       0   \n",
       "1                             0                                       0   \n",
       "2                             0                                       0   \n",
       "4                             0                                       1   \n",
       "5                             0                                       0   \n",
       "...                         ...                                     ...   \n",
       "2731618                       0                                       1   \n",
       "2731620                       0                                       1   \n",
       "2731622                       0                                       1   \n",
       "2731634                       0                                       1   \n",
       "2731636                       0                                       1   \n",
       "\n",
       "         test_indication_Other  \n",
       "0                            1  \n",
       "1                            1  \n",
       "2                            1  \n",
       "4                            0  \n",
       "5                            1  \n",
       "...                        ...  \n",
       "2731618                      0  \n",
       "2731620                      0  \n",
       "2731622                      0  \n",
       "2731634                      0  \n",
       "2731636                      0  \n",
       "\n",
       "[33417 rows x 3 columns]"
      ]
     },
     "execution_count": 9,
     "metadata": {},
     "output_type": "execute_result"
    }
   ],
   "source": [
    "dummies=pd.get_dummies(df[[\"test_indication\"]])\n",
    "dummies"
   ]
  },
  {
   "cell_type": "code",
   "execution_count": 10,
   "id": "8c2fe150",
   "metadata": {},
   "outputs": [
    {
     "data": {
      "text/html": [
       "<div>\n",
       "<style scoped>\n",
       "    .dataframe tbody tr th:only-of-type {\n",
       "        vertical-align: middle;\n",
       "    }\n",
       "\n",
       "    .dataframe tbody tr th {\n",
       "        vertical-align: top;\n",
       "    }\n",
       "\n",
       "    .dataframe thead th {\n",
       "        text-align: right;\n",
       "    }\n",
       "</style>\n",
       "<table border=\"1\" class=\"dataframe\">\n",
       "  <thead>\n",
       "    <tr style=\"text-align: right;\">\n",
       "      <th></th>\n",
       "      <th>test_date</th>\n",
       "      <th>cough</th>\n",
       "      <th>fever</th>\n",
       "      <th>sore_throat</th>\n",
       "      <th>shortness_of_breath</th>\n",
       "      <th>head_ache</th>\n",
       "      <th>corona_result</th>\n",
       "      <th>age_60_and_above</th>\n",
       "      <th>gender</th>\n",
       "      <th>test_indication</th>\n",
       "      <th>Contact_with_confirmed</th>\n",
       "    </tr>\n",
       "  </thead>\n",
       "  <tbody>\n",
       "    <tr>\n",
       "      <th>0</th>\n",
       "      <td>2020-11-12</td>\n",
       "      <td>0</td>\n",
       "      <td>0</td>\n",
       "      <td>0</td>\n",
       "      <td>0</td>\n",
       "      <td>0</td>\n",
       "      <td>negative</td>\n",
       "      <td>No</td>\n",
       "      <td>male</td>\n",
       "      <td>Other</td>\n",
       "      <td>0</td>\n",
       "    </tr>\n",
       "    <tr>\n",
       "      <th>1</th>\n",
       "      <td>2020-11-12</td>\n",
       "      <td>0</td>\n",
       "      <td>1</td>\n",
       "      <td>0</td>\n",
       "      <td>0</td>\n",
       "      <td>0</td>\n",
       "      <td>negative</td>\n",
       "      <td>No</td>\n",
       "      <td>male</td>\n",
       "      <td>Other</td>\n",
       "      <td>0</td>\n",
       "    </tr>\n",
       "    <tr>\n",
       "      <th>2</th>\n",
       "      <td>2020-11-12</td>\n",
       "      <td>0</td>\n",
       "      <td>0</td>\n",
       "      <td>0</td>\n",
       "      <td>0</td>\n",
       "      <td>0</td>\n",
       "      <td>negative</td>\n",
       "      <td>Yes</td>\n",
       "      <td>female</td>\n",
       "      <td>Other</td>\n",
       "      <td>0</td>\n",
       "    </tr>\n",
       "    <tr>\n",
       "      <th>4</th>\n",
       "      <td>2020-11-12</td>\n",
       "      <td>0</td>\n",
       "      <td>1</td>\n",
       "      <td>0</td>\n",
       "      <td>0</td>\n",
       "      <td>0</td>\n",
       "      <td>negative</td>\n",
       "      <td>No</td>\n",
       "      <td>male</td>\n",
       "      <td>Contact with confirmed</td>\n",
       "      <td>1</td>\n",
       "    </tr>\n",
       "    <tr>\n",
       "      <th>5</th>\n",
       "      <td>2020-11-12</td>\n",
       "      <td>1</td>\n",
       "      <td>0</td>\n",
       "      <td>0</td>\n",
       "      <td>0</td>\n",
       "      <td>0</td>\n",
       "      <td>negative</td>\n",
       "      <td>No</td>\n",
       "      <td>male</td>\n",
       "      <td>Other</td>\n",
       "      <td>0</td>\n",
       "    </tr>\n",
       "  </tbody>\n",
       "</table>\n",
       "</div>"
      ],
      "text/plain": [
       "    test_date  cough  fever  sore_throat  shortness_of_breath  head_ache  \\\n",
       "0  2020-11-12      0      0            0                    0          0   \n",
       "1  2020-11-12      0      1            0                    0          0   \n",
       "2  2020-11-12      0      0            0                    0          0   \n",
       "4  2020-11-12      0      1            0                    0          0   \n",
       "5  2020-11-12      1      0            0                    0          0   \n",
       "\n",
       "  corona_result age_60_and_above  gender         test_indication  \\\n",
       "0      negative               No    male                   Other   \n",
       "1      negative               No    male                   Other   \n",
       "2      negative              Yes  female                   Other   \n",
       "4      negative               No    male  Contact with confirmed   \n",
       "5      negative               No    male                   Other   \n",
       "\n",
       "   Contact_with_confirmed  \n",
       "0                       0  \n",
       "1                       0  \n",
       "2                       0  \n",
       "4                       1  \n",
       "5                       0  "
      ]
     },
     "execution_count": 10,
     "metadata": {},
     "output_type": "execute_result"
    }
   ],
   "source": [
    "df[\"Contact_with_confirmed\"]=dummies[\"test_indication_Contact with confirmed\"]\n",
    "df.head()"
   ]
  },
  {
   "cell_type": "code",
   "execution_count": 11,
   "id": "fa3903d2",
   "metadata": {},
   "outputs": [
    {
     "data": {
      "text/html": [
       "<div>\n",
       "<style scoped>\n",
       "    .dataframe tbody tr th:only-of-type {\n",
       "        vertical-align: middle;\n",
       "    }\n",
       "\n",
       "    .dataframe tbody tr th {\n",
       "        vertical-align: top;\n",
       "    }\n",
       "\n",
       "    .dataframe thead th {\n",
       "        text-align: right;\n",
       "    }\n",
       "</style>\n",
       "<table border=\"1\" class=\"dataframe\">\n",
       "  <thead>\n",
       "    <tr style=\"text-align: right;\">\n",
       "      <th></th>\n",
       "      <th>test_date</th>\n",
       "      <th>cough</th>\n",
       "      <th>fever</th>\n",
       "      <th>sore_throat</th>\n",
       "      <th>shortness_of_breath</th>\n",
       "      <th>head_ache</th>\n",
       "      <th>corona_result</th>\n",
       "      <th>age_60_and_above</th>\n",
       "      <th>gender</th>\n",
       "      <th>test_indication</th>\n",
       "      <th>Contact_with_confirmed</th>\n",
       "    </tr>\n",
       "  </thead>\n",
       "  <tbody>\n",
       "    <tr>\n",
       "      <th>0</th>\n",
       "      <td>2020-11-12</td>\n",
       "      <td>0</td>\n",
       "      <td>0</td>\n",
       "      <td>0</td>\n",
       "      <td>0</td>\n",
       "      <td>0</td>\n",
       "      <td>0</td>\n",
       "      <td>0</td>\n",
       "      <td>1</td>\n",
       "      <td>Other</td>\n",
       "      <td>0</td>\n",
       "    </tr>\n",
       "    <tr>\n",
       "      <th>1</th>\n",
       "      <td>2020-11-12</td>\n",
       "      <td>0</td>\n",
       "      <td>1</td>\n",
       "      <td>0</td>\n",
       "      <td>0</td>\n",
       "      <td>0</td>\n",
       "      <td>0</td>\n",
       "      <td>0</td>\n",
       "      <td>1</td>\n",
       "      <td>Other</td>\n",
       "      <td>0</td>\n",
       "    </tr>\n",
       "    <tr>\n",
       "      <th>2</th>\n",
       "      <td>2020-11-12</td>\n",
       "      <td>0</td>\n",
       "      <td>0</td>\n",
       "      <td>0</td>\n",
       "      <td>0</td>\n",
       "      <td>0</td>\n",
       "      <td>0</td>\n",
       "      <td>1</td>\n",
       "      <td>0</td>\n",
       "      <td>Other</td>\n",
       "      <td>0</td>\n",
       "    </tr>\n",
       "    <tr>\n",
       "      <th>4</th>\n",
       "      <td>2020-11-12</td>\n",
       "      <td>0</td>\n",
       "      <td>1</td>\n",
       "      <td>0</td>\n",
       "      <td>0</td>\n",
       "      <td>0</td>\n",
       "      <td>0</td>\n",
       "      <td>0</td>\n",
       "      <td>1</td>\n",
       "      <td>Contact with confirmed</td>\n",
       "      <td>1</td>\n",
       "    </tr>\n",
       "    <tr>\n",
       "      <th>5</th>\n",
       "      <td>2020-11-12</td>\n",
       "      <td>1</td>\n",
       "      <td>0</td>\n",
       "      <td>0</td>\n",
       "      <td>0</td>\n",
       "      <td>0</td>\n",
       "      <td>0</td>\n",
       "      <td>0</td>\n",
       "      <td>1</td>\n",
       "      <td>Other</td>\n",
       "      <td>0</td>\n",
       "    </tr>\n",
       "    <tr>\n",
       "      <th>...</th>\n",
       "      <td>...</td>\n",
       "      <td>...</td>\n",
       "      <td>...</td>\n",
       "      <td>...</td>\n",
       "      <td>...</td>\n",
       "      <td>...</td>\n",
       "      <td>...</td>\n",
       "      <td>...</td>\n",
       "      <td>...</td>\n",
       "      <td>...</td>\n",
       "      <td>...</td>\n",
       "    </tr>\n",
       "    <tr>\n",
       "      <th>2731618</th>\n",
       "      <td>2020-03-20</td>\n",
       "      <td>0</td>\n",
       "      <td>0</td>\n",
       "      <td>0</td>\n",
       "      <td>0</td>\n",
       "      <td>0</td>\n",
       "      <td>0</td>\n",
       "      <td>1</td>\n",
       "      <td>1</td>\n",
       "      <td>Contact with confirmed</td>\n",
       "      <td>1</td>\n",
       "    </tr>\n",
       "    <tr>\n",
       "      <th>2731620</th>\n",
       "      <td>2020-03-20</td>\n",
       "      <td>0</td>\n",
       "      <td>0</td>\n",
       "      <td>1</td>\n",
       "      <td>1</td>\n",
       "      <td>0</td>\n",
       "      <td>1</td>\n",
       "      <td>0</td>\n",
       "      <td>0</td>\n",
       "      <td>Contact with confirmed</td>\n",
       "      <td>1</td>\n",
       "    </tr>\n",
       "    <tr>\n",
       "      <th>2731622</th>\n",
       "      <td>2020-03-20</td>\n",
       "      <td>1</td>\n",
       "      <td>0</td>\n",
       "      <td>0</td>\n",
       "      <td>1</td>\n",
       "      <td>0</td>\n",
       "      <td>1</td>\n",
       "      <td>1</td>\n",
       "      <td>0</td>\n",
       "      <td>Contact with confirmed</td>\n",
       "      <td>1</td>\n",
       "    </tr>\n",
       "    <tr>\n",
       "      <th>2731634</th>\n",
       "      <td>2020-03-20</td>\n",
       "      <td>1</td>\n",
       "      <td>0</td>\n",
       "      <td>1</td>\n",
       "      <td>0</td>\n",
       "      <td>1</td>\n",
       "      <td>0</td>\n",
       "      <td>0</td>\n",
       "      <td>0</td>\n",
       "      <td>Contact with confirmed</td>\n",
       "      <td>1</td>\n",
       "    </tr>\n",
       "    <tr>\n",
       "      <th>2731636</th>\n",
       "      <td>2020-03-20</td>\n",
       "      <td>1</td>\n",
       "      <td>0</td>\n",
       "      <td>0</td>\n",
       "      <td>1</td>\n",
       "      <td>1</td>\n",
       "      <td>1</td>\n",
       "      <td>0</td>\n",
       "      <td>1</td>\n",
       "      <td>Contact with confirmed</td>\n",
       "      <td>1</td>\n",
       "    </tr>\n",
       "  </tbody>\n",
       "</table>\n",
       "<p>33417 rows × 11 columns</p>\n",
       "</div>"
      ],
      "text/plain": [
       "          test_date  cough  fever  sore_throat  shortness_of_breath  \\\n",
       "0        2020-11-12      0      0            0                    0   \n",
       "1        2020-11-12      0      1            0                    0   \n",
       "2        2020-11-12      0      0            0                    0   \n",
       "4        2020-11-12      0      1            0                    0   \n",
       "5        2020-11-12      1      0            0                    0   \n",
       "...             ...    ...    ...          ...                  ...   \n",
       "2731618  2020-03-20      0      0            0                    0   \n",
       "2731620  2020-03-20      0      0            1                    1   \n",
       "2731622  2020-03-20      1      0            0                    1   \n",
       "2731634  2020-03-20      1      0            1                    0   \n",
       "2731636  2020-03-20      1      0            0                    1   \n",
       "\n",
       "         head_ache  corona_result  age_60_and_above  gender  \\\n",
       "0                0              0                 0       1   \n",
       "1                0              0                 0       1   \n",
       "2                0              0                 1       0   \n",
       "4                0              0                 0       1   \n",
       "5                0              0                 0       1   \n",
       "...            ...            ...               ...     ...   \n",
       "2731618          0              0                 1       1   \n",
       "2731620          0              1                 0       0   \n",
       "2731622          0              1                 1       0   \n",
       "2731634          1              0                 0       0   \n",
       "2731636          1              1                 0       1   \n",
       "\n",
       "                test_indication  Contact_with_confirmed  \n",
       "0                         Other                       0  \n",
       "1                         Other                       0  \n",
       "2                         Other                       0  \n",
       "4        Contact with confirmed                       1  \n",
       "5                         Other                       0  \n",
       "...                         ...                     ...  \n",
       "2731618  Contact with confirmed                       1  \n",
       "2731620  Contact with confirmed                       1  \n",
       "2731622  Contact with confirmed                       1  \n",
       "2731634  Contact with confirmed                       1  \n",
       "2731636  Contact with confirmed                       1  \n",
       "\n",
       "[33417 rows x 11 columns]"
      ]
     },
     "execution_count": 11,
     "metadata": {},
     "output_type": "execute_result"
    }
   ],
   "source": [
    "le=LabelEncoder()\n",
    "df[\"corona_result\"]=le.fit_transform(df[\"corona_result\"])\n",
    "df[\"age_60_and_above\"]=le.fit_transform(df[\"age_60_and_above\"])\n",
    "df[\"gender\"]=le.fit_transform(df[\"gender\"])\n",
    "df"
   ]
  },
  {
   "cell_type": "markdown",
   "id": "6bdf3348",
   "metadata": {},
   "source": [
    "## Removing unwanted columns\n",
    "There are some columns in our data which we doesn't require in our model like test_date and test_indication . So we are going to remove them .\n"
   ]
  },
  {
   "cell_type": "code",
   "execution_count": 12,
   "id": "3bb8d7e5",
   "metadata": {},
   "outputs": [
    {
     "data": {
      "text/html": [
       "<div>\n",
       "<style scoped>\n",
       "    .dataframe tbody tr th:only-of-type {\n",
       "        vertical-align: middle;\n",
       "    }\n",
       "\n",
       "    .dataframe tbody tr th {\n",
       "        vertical-align: top;\n",
       "    }\n",
       "\n",
       "    .dataframe thead th {\n",
       "        text-align: right;\n",
       "    }\n",
       "</style>\n",
       "<table border=\"1\" class=\"dataframe\">\n",
       "  <thead>\n",
       "    <tr style=\"text-align: right;\">\n",
       "      <th></th>\n",
       "      <th>cough</th>\n",
       "      <th>fever</th>\n",
       "      <th>sore_throat</th>\n",
       "      <th>shortness_of_breath</th>\n",
       "      <th>head_ache</th>\n",
       "      <th>corona_result</th>\n",
       "      <th>age_60_and_above</th>\n",
       "      <th>gender</th>\n",
       "      <th>Contact_with_confirmed</th>\n",
       "    </tr>\n",
       "  </thead>\n",
       "  <tbody>\n",
       "    <tr>\n",
       "      <th>0</th>\n",
       "      <td>0</td>\n",
       "      <td>0</td>\n",
       "      <td>0</td>\n",
       "      <td>0</td>\n",
       "      <td>0</td>\n",
       "      <td>0</td>\n",
       "      <td>0</td>\n",
       "      <td>1</td>\n",
       "      <td>0</td>\n",
       "    </tr>\n",
       "    <tr>\n",
       "      <th>1</th>\n",
       "      <td>0</td>\n",
       "      <td>1</td>\n",
       "      <td>0</td>\n",
       "      <td>0</td>\n",
       "      <td>0</td>\n",
       "      <td>0</td>\n",
       "      <td>0</td>\n",
       "      <td>1</td>\n",
       "      <td>0</td>\n",
       "    </tr>\n",
       "    <tr>\n",
       "      <th>2</th>\n",
       "      <td>0</td>\n",
       "      <td>0</td>\n",
       "      <td>0</td>\n",
       "      <td>0</td>\n",
       "      <td>0</td>\n",
       "      <td>0</td>\n",
       "      <td>1</td>\n",
       "      <td>0</td>\n",
       "      <td>0</td>\n",
       "    </tr>\n",
       "    <tr>\n",
       "      <th>4</th>\n",
       "      <td>0</td>\n",
       "      <td>1</td>\n",
       "      <td>0</td>\n",
       "      <td>0</td>\n",
       "      <td>0</td>\n",
       "      <td>0</td>\n",
       "      <td>0</td>\n",
       "      <td>1</td>\n",
       "      <td>1</td>\n",
       "    </tr>\n",
       "    <tr>\n",
       "      <th>5</th>\n",
       "      <td>1</td>\n",
       "      <td>0</td>\n",
       "      <td>0</td>\n",
       "      <td>0</td>\n",
       "      <td>0</td>\n",
       "      <td>0</td>\n",
       "      <td>0</td>\n",
       "      <td>1</td>\n",
       "      <td>0</td>\n",
       "    </tr>\n",
       "    <tr>\n",
       "      <th>...</th>\n",
       "      <td>...</td>\n",
       "      <td>...</td>\n",
       "      <td>...</td>\n",
       "      <td>...</td>\n",
       "      <td>...</td>\n",
       "      <td>...</td>\n",
       "      <td>...</td>\n",
       "      <td>...</td>\n",
       "      <td>...</td>\n",
       "    </tr>\n",
       "    <tr>\n",
       "      <th>2731618</th>\n",
       "      <td>0</td>\n",
       "      <td>0</td>\n",
       "      <td>0</td>\n",
       "      <td>0</td>\n",
       "      <td>0</td>\n",
       "      <td>0</td>\n",
       "      <td>1</td>\n",
       "      <td>1</td>\n",
       "      <td>1</td>\n",
       "    </tr>\n",
       "    <tr>\n",
       "      <th>2731620</th>\n",
       "      <td>0</td>\n",
       "      <td>0</td>\n",
       "      <td>1</td>\n",
       "      <td>1</td>\n",
       "      <td>0</td>\n",
       "      <td>1</td>\n",
       "      <td>0</td>\n",
       "      <td>0</td>\n",
       "      <td>1</td>\n",
       "    </tr>\n",
       "    <tr>\n",
       "      <th>2731622</th>\n",
       "      <td>1</td>\n",
       "      <td>0</td>\n",
       "      <td>0</td>\n",
       "      <td>1</td>\n",
       "      <td>0</td>\n",
       "      <td>1</td>\n",
       "      <td>1</td>\n",
       "      <td>0</td>\n",
       "      <td>1</td>\n",
       "    </tr>\n",
       "    <tr>\n",
       "      <th>2731634</th>\n",
       "      <td>1</td>\n",
       "      <td>0</td>\n",
       "      <td>1</td>\n",
       "      <td>0</td>\n",
       "      <td>1</td>\n",
       "      <td>0</td>\n",
       "      <td>0</td>\n",
       "      <td>0</td>\n",
       "      <td>1</td>\n",
       "    </tr>\n",
       "    <tr>\n",
       "      <th>2731636</th>\n",
       "      <td>1</td>\n",
       "      <td>0</td>\n",
       "      <td>0</td>\n",
       "      <td>1</td>\n",
       "      <td>1</td>\n",
       "      <td>1</td>\n",
       "      <td>0</td>\n",
       "      <td>1</td>\n",
       "      <td>1</td>\n",
       "    </tr>\n",
       "  </tbody>\n",
       "</table>\n",
       "<p>33417 rows × 9 columns</p>\n",
       "</div>"
      ],
      "text/plain": [
       "         cough  fever  sore_throat  shortness_of_breath  head_ache  \\\n",
       "0            0      0            0                    0          0   \n",
       "1            0      1            0                    0          0   \n",
       "2            0      0            0                    0          0   \n",
       "4            0      1            0                    0          0   \n",
       "5            1      0            0                    0          0   \n",
       "...        ...    ...          ...                  ...        ...   \n",
       "2731618      0      0            0                    0          0   \n",
       "2731620      0      0            1                    1          0   \n",
       "2731622      1      0            0                    1          0   \n",
       "2731634      1      0            1                    0          1   \n",
       "2731636      1      0            0                    1          1   \n",
       "\n",
       "         corona_result  age_60_and_above  gender  Contact_with_confirmed  \n",
       "0                    0                 0       1                       0  \n",
       "1                    0                 0       1                       0  \n",
       "2                    0                 1       0                       0  \n",
       "4                    0                 0       1                       1  \n",
       "5                    0                 0       1                       0  \n",
       "...                ...               ...     ...                     ...  \n",
       "2731618              0                 1       1                       1  \n",
       "2731620              1                 0       0                       1  \n",
       "2731622              1                 1       0                       1  \n",
       "2731634              0                 0       0                       1  \n",
       "2731636              1                 0       1                       1  \n",
       "\n",
       "[33417 rows x 9 columns]"
      ]
     },
     "execution_count": 12,
     "metadata": {},
     "output_type": "execute_result"
    }
   ],
   "source": [
    "df.drop([\"test_date\",\"test_indication\"],axis=1,inplace=True)\n",
    "df"
   ]
  },
  {
   "cell_type": "markdown",
   "id": "89a5eeb6",
   "metadata": {},
   "source": [
    "# Final DataFrame"
   ]
  },
  {
   "cell_type": "code",
   "execution_count": 13,
   "id": "7c6741c8",
   "metadata": {},
   "outputs": [
    {
     "data": {
      "text/html": [
       "<div>\n",
       "<style scoped>\n",
       "    .dataframe tbody tr th:only-of-type {\n",
       "        vertical-align: middle;\n",
       "    }\n",
       "\n",
       "    .dataframe tbody tr th {\n",
       "        vertical-align: top;\n",
       "    }\n",
       "\n",
       "    .dataframe thead th {\n",
       "        text-align: right;\n",
       "    }\n",
       "</style>\n",
       "<table border=\"1\" class=\"dataframe\">\n",
       "  <thead>\n",
       "    <tr style=\"text-align: right;\">\n",
       "      <th></th>\n",
       "      <th>cough</th>\n",
       "      <th>fever</th>\n",
       "      <th>sore_throat</th>\n",
       "      <th>shortness_of_breath</th>\n",
       "      <th>head_ache</th>\n",
       "      <th>corona_result</th>\n",
       "      <th>age_60_and_above</th>\n",
       "      <th>gender</th>\n",
       "      <th>Contact_with_confirmed</th>\n",
       "    </tr>\n",
       "  </thead>\n",
       "  <tbody>\n",
       "    <tr>\n",
       "      <th>0</th>\n",
       "      <td>0</td>\n",
       "      <td>0</td>\n",
       "      <td>0</td>\n",
       "      <td>0</td>\n",
       "      <td>0</td>\n",
       "      <td>0</td>\n",
       "      <td>0</td>\n",
       "      <td>1</td>\n",
       "      <td>0</td>\n",
       "    </tr>\n",
       "    <tr>\n",
       "      <th>1</th>\n",
       "      <td>0</td>\n",
       "      <td>1</td>\n",
       "      <td>0</td>\n",
       "      <td>0</td>\n",
       "      <td>0</td>\n",
       "      <td>0</td>\n",
       "      <td>0</td>\n",
       "      <td>1</td>\n",
       "      <td>0</td>\n",
       "    </tr>\n",
       "    <tr>\n",
       "      <th>2</th>\n",
       "      <td>0</td>\n",
       "      <td>0</td>\n",
       "      <td>0</td>\n",
       "      <td>0</td>\n",
       "      <td>0</td>\n",
       "      <td>0</td>\n",
       "      <td>1</td>\n",
       "      <td>0</td>\n",
       "      <td>0</td>\n",
       "    </tr>\n",
       "    <tr>\n",
       "      <th>4</th>\n",
       "      <td>0</td>\n",
       "      <td>1</td>\n",
       "      <td>0</td>\n",
       "      <td>0</td>\n",
       "      <td>0</td>\n",
       "      <td>0</td>\n",
       "      <td>0</td>\n",
       "      <td>1</td>\n",
       "      <td>1</td>\n",
       "    </tr>\n",
       "    <tr>\n",
       "      <th>5</th>\n",
       "      <td>1</td>\n",
       "      <td>0</td>\n",
       "      <td>0</td>\n",
       "      <td>0</td>\n",
       "      <td>0</td>\n",
       "      <td>0</td>\n",
       "      <td>0</td>\n",
       "      <td>1</td>\n",
       "      <td>0</td>\n",
       "    </tr>\n",
       "    <tr>\n",
       "      <th>...</th>\n",
       "      <td>...</td>\n",
       "      <td>...</td>\n",
       "      <td>...</td>\n",
       "      <td>...</td>\n",
       "      <td>...</td>\n",
       "      <td>...</td>\n",
       "      <td>...</td>\n",
       "      <td>...</td>\n",
       "      <td>...</td>\n",
       "    </tr>\n",
       "    <tr>\n",
       "      <th>2731618</th>\n",
       "      <td>0</td>\n",
       "      <td>0</td>\n",
       "      <td>0</td>\n",
       "      <td>0</td>\n",
       "      <td>0</td>\n",
       "      <td>0</td>\n",
       "      <td>1</td>\n",
       "      <td>1</td>\n",
       "      <td>1</td>\n",
       "    </tr>\n",
       "    <tr>\n",
       "      <th>2731620</th>\n",
       "      <td>0</td>\n",
       "      <td>0</td>\n",
       "      <td>1</td>\n",
       "      <td>1</td>\n",
       "      <td>0</td>\n",
       "      <td>1</td>\n",
       "      <td>0</td>\n",
       "      <td>0</td>\n",
       "      <td>1</td>\n",
       "    </tr>\n",
       "    <tr>\n",
       "      <th>2731622</th>\n",
       "      <td>1</td>\n",
       "      <td>0</td>\n",
       "      <td>0</td>\n",
       "      <td>1</td>\n",
       "      <td>0</td>\n",
       "      <td>1</td>\n",
       "      <td>1</td>\n",
       "      <td>0</td>\n",
       "      <td>1</td>\n",
       "    </tr>\n",
       "    <tr>\n",
       "      <th>2731634</th>\n",
       "      <td>1</td>\n",
       "      <td>0</td>\n",
       "      <td>1</td>\n",
       "      <td>0</td>\n",
       "      <td>1</td>\n",
       "      <td>0</td>\n",
       "      <td>0</td>\n",
       "      <td>0</td>\n",
       "      <td>1</td>\n",
       "    </tr>\n",
       "    <tr>\n",
       "      <th>2731636</th>\n",
       "      <td>1</td>\n",
       "      <td>0</td>\n",
       "      <td>0</td>\n",
       "      <td>1</td>\n",
       "      <td>1</td>\n",
       "      <td>1</td>\n",
       "      <td>0</td>\n",
       "      <td>1</td>\n",
       "      <td>1</td>\n",
       "    </tr>\n",
       "  </tbody>\n",
       "</table>\n",
       "<p>33417 rows × 9 columns</p>\n",
       "</div>"
      ],
      "text/plain": [
       "         cough  fever  sore_throat  shortness_of_breath  head_ache  \\\n",
       "0            0      0            0                    0          0   \n",
       "1            0      1            0                    0          0   \n",
       "2            0      0            0                    0          0   \n",
       "4            0      1            0                    0          0   \n",
       "5            1      0            0                    0          0   \n",
       "...        ...    ...          ...                  ...        ...   \n",
       "2731618      0      0            0                    0          0   \n",
       "2731620      0      0            1                    1          0   \n",
       "2731622      1      0            0                    1          0   \n",
       "2731634      1      0            1                    0          1   \n",
       "2731636      1      0            0                    1          1   \n",
       "\n",
       "         corona_result  age_60_and_above  gender  Contact_with_confirmed  \n",
       "0                    0                 0       1                       0  \n",
       "1                    0                 0       1                       0  \n",
       "2                    0                 1       0                       0  \n",
       "4                    0                 0       1                       1  \n",
       "5                    0                 0       1                       0  \n",
       "...                ...               ...     ...                     ...  \n",
       "2731618              0                 1       1                       1  \n",
       "2731620              1                 0       0                       1  \n",
       "2731622              1                 1       0                       1  \n",
       "2731634              0                 0       0                       1  \n",
       "2731636              1                 0       1                       1  \n",
       "\n",
       "[33417 rows x 9 columns]"
      ]
     },
     "execution_count": 13,
     "metadata": {},
     "output_type": "execute_result"
    }
   ],
   "source": [
    "df"
   ]
  },
  {
   "cell_type": "markdown",
   "id": "a074f227",
   "metadata": {},
   "source": [
    "# Data exploration or EDA ( Exploratory Data Analysis )"
   ]
  },
  {
   "cell_type": "markdown",
   "id": "f3542a17",
   "metadata": {},
   "source": [
    "### Frequency Analysis of different features"
   ]
  },
  {
   "cell_type": "code",
   "execution_count": 13,
   "id": "53a60159",
   "metadata": {},
   "outputs": [
    {
     "data": {
      "image/png": "[encoded data removed]",
      "text/plain": [
       "<Figure size 360x2160 with 9 Axes>"
      ]
     },
     "metadata": {},
     "output_type": "display_data"
    }
   ],
   "source": [
    "plt.style.use(\"seaborn-whitegrid\")\n",
    "df.plot.hist(subplots=True,figsize=(5,30),sharex=False);"
   ]
  },
  {
   "cell_type": "markdown",
   "id": "40583213",
   "metadata": {},
   "source": [
    "<font color=\"green\">**Based on above plots , we can conclude the following points -**\n",
    "1. Cough - There are approximately equal no. of patients with and without cough in our data .\n",
    "2. Fever - No. of patients with fever are less than people without fever\n",
    "3. Sore throat - No. of patients with sore throat are less than half times the patients without sore throat \n",
    "4. Shortness of breadth - No. of patients who suffer from shortness of breadth is about 1/5 times the no. of patients without      shortness of breadth\n",
    "5. Headache - The no. of patients who suffer from headache is much less than patients without headache\n",
    "6. Corona Result - The frequency of positive corona patients is much higher than those of corona negative patients\n",
    "7. Age 60 and above - Most of the patients are less than age 60 \n",
    "8. Gender - The no. of female patients is greater than male patients\n",
    "9. Contact with confirmed - Lesser people had contact with confirmed patients</font>"
   ]
  },
  {
   "cell_type": "markdown",
   "id": "889a02d2",
   "metadata": {},
   "source": [
    "### Corona Result Column Analysis\n",
    "We are going to analyse the different aspects of the target column i.e. corona_resut"
   ]
  },
  {
   "cell_type": "code",
   "execution_count": 14,
   "id": "06c4d79f",
   "metadata": {},
   "outputs": [
    {
     "data": {
      "text/plain": [
       "1    19867\n",
       "0    13550\n",
       "Name: corona_result, dtype: int64"
      ]
     },
     "execution_count": 14,
     "metadata": {},
     "output_type": "execute_result"
    }
   ],
   "source": [
    "df[\"corona_result\"].value_counts()"
   ]
  },
  {
   "cell_type": "code",
   "execution_count": 15,
   "id": "b9571976",
   "metadata": {},
   "outputs": [
    {
     "data": {
      "image/png": "[encoded data removed]",
      "text/plain": [
       "<Figure size 360x360 with 1 Axes>"
      ]
     },
     "metadata": {},
     "output_type": "display_data"
    }
   ],
   "source": [
    "# df[\"corona_result\"].value_counts().plot(kind=\"pie\",\n",
    "#                                         xlabel=\"corona result (1=positive , 0=negative)\",ylabel=\"no. of patients\"\n",
    "#                                         );\n",
    "\n",
    "# plt.pie(df.corona_result.value_counts(),labels=True,autopct=\"1.2f%%\");\n",
    "fig,ax=plt.subplots(figsize=(5,5))\n",
    "wedges,texts,autotexts=ax.pie(df[\"corona_result\"].value_counts(),\n",
    "       explode=(0,0.1),shadow=True,startangle=90,\n",
    "       autopct=\"%1.2f%%\",\n",
    "       colors=[\"salmon\",\"lightblue\"],\n",
    "       wedgeprops={\"linewidth\":1,\"edgecolor\":\"gray\"},\n",
    "       textprops={\"color\":\"black\",\"size\":15}\n",
    "       )\n",
    "ax.axis(\"equal\")\n",
    "ax.legend(wedges,[\"corona positive\",\"corona negative\"],loc=\"center left\",bbox_to_anchor=(1,0,0.5,1))\n",
    "ax.set_title(\"percentage of corona results\")\n",
    "plt.show();"
   ]
  },
  {
   "cell_type": "markdown",
   "id": "6da9155b",
   "metadata": {},
   "source": [
    "**<font color=\"green\">We observe that we have more entries for corona positive cases(19867) than corona negative cases (13550)</font>**"
   ]
  },
  {
   "cell_type": "markdown",
   "id": "fc950dff",
   "metadata": {},
   "source": [
    "### Corona Result vs Other Columns"
   ]
  },
  {
   "cell_type": "code",
   "execution_count": 16,
   "id": "a7aadd6d",
   "metadata": {},
   "outputs": [
    {
     "data": {
      "image/png": "[encoded data removed]",
      "text/plain": [
       "<Figure size 864x1440 with 8 Axes>"
      ]
     },
     "metadata": {},
     "output_type": "display_data"
    }
   ],
   "source": [
    "plt.style.use(\"seaborn-whitegrid\")\n",
    "fig,ax=plt.subplots(nrows=4,ncols=2,figsize=(12,20))\n",
    "fig.tight_layout(pad=7.0)\n",
    "\n",
    "pd.crosstab(df[\"corona_result\"],df[\"cough\"]).plot(kind=\"bar\",color=[\"salmon\",\"lightblue\"],\n",
    "                                                  ax=ax[0][0],\n",
    "                                                  title=\"Cough and Corona result\",\n",
    "                                                  xlabel=\"corona result 0=negative  1=positive\",\n",
    "                                                  ylabel=\"no. of patients\",\n",
    "                                                 )\n",
    "ax[0][0].legend([\"no cough\",\"cough\"])\n",
    "\n",
    "pd.crosstab(df[\"corona_result\"],df[\"fever\"]).plot(kind=\"bar\",color=[\"y\",\"bisque\"],\n",
    "                                                  ax=ax[0][1],\n",
    "                                                  title=\"Fever and Corona result\",\n",
    "                                                  xlabel=\"corona result 0=negative  1=positive\",\n",
    "                                                  ylabel=\"no. of patients\",\n",
    "                                                 )\n",
    "ax[0][1].legend([\"no fever\",\"fever\"])\n",
    "\n",
    "pd.crosstab(df[\"corona_result\"],df[\"sore_throat\"]).plot(kind=\"bar\",color=[\"gold\",\"yellowgreen\"],\n",
    "                                                  ax=ax[1][0],\n",
    "                                                  title=\"Sore throat and Corona result\",\n",
    "                                                  xlabel=\"corona result 0=negative  1=positive\",\n",
    "                                                  ylabel=\"no. of patients\",\n",
    "                                                 )\n",
    "ax[1][0].legend([\"no sore throat\",\"sore throat\"])\n",
    "\n",
    "pd.crosstab(df[\"corona_result\"],df[\"shortness_of_breath\"]).plot(kind=\"bar\",color=[\"c\",\"pink\"],\n",
    "                                                  ax=ax[1][1],\n",
    "                                                  title=\"Shortness of breath and Corona result\",\n",
    "                                                  xlabel=\"corona result 0=negative  1=positive\",\n",
    "                                                  ylabel=\"no. of patients\",\n",
    "                                                 )\n",
    "ax[1][1].legend([\"no shortness of breath\",\"shortness of breath\"])\n",
    "\n",
    "pd.crosstab(df[\"corona_result\"],df[\"head_ache\"]).plot(kind=\"bar\",color=[\"lightcoral\",\"paleturquoise\"],\n",
    "                                                  ax=ax[2][0],\n",
    "                                                  title=\"Headache and Corona result\",\n",
    "                                                  xlabel=\"corona result 0=negative  1=positive\",\n",
    "                                                  ylabel=\"no. of patients\",\n",
    "                                                 )\n",
    "ax[2][0].legend([\"no headache\",\"headache\"])\n",
    "\n",
    "pd.crosstab(df[\"corona_result\"],df[\"age_60_and_above\"]).plot(kind=\"bar\",color=[\"orange\",\"teal\"],\n",
    "                                                  ax=ax[2][1],\n",
    "                                                  title=\"Age 60 and above and Corona result\",\n",
    "                                                  xlabel=\"corona result 0=negative  1=positive\",\n",
    "                                                  ylabel=\"no. of patients\",\n",
    "                                                 )\n",
    "ax[2][1].legend([\"age<60\",\"age>=60\"])\n",
    "\n",
    "pd.crosstab(df[\"corona_result\"],df[\"gender\"]).plot(kind=\"bar\",color=[\"mediumpurple\",\"khaki\"],\n",
    "                                                  ax=ax[3][0],\n",
    "                                                  title=\"Gender and Corona result\",\n",
    "                                                  xlabel=\"corona result 0=negative  1=positive\",\n",
    "                                                  ylabel=\"no. of patients\",\n",
    "                                                 )\n",
    "ax[3][0].legend([\"female\",\"male\"])\n",
    "\n",
    "pd.crosstab(df[\"corona_result\"],df[\"Contact_with_confirmed\"]).plot(kind=\"bar\",color=[\"aquamarine\",\"tomato\"],\n",
    "                                                  ax=ax[3][1],\n",
    "                                                  title=\"Contact with confirmed and Corona result\",\n",
    "                                                  xlabel=\"corona result 0=negative  1=positive\",\n",
    "                                                  ylabel=\"no. of patients\",\n",
    "                                                 )\n",
    "ax[3][1].legend([\"no contact with confirmed\",\"contact with confirmed\"]);"
   ]
  },
  {
   "cell_type": "markdown",
   "id": "0193be25",
   "metadata": {},
   "source": [
    "<font color=\"green\">**Based on above plots , we can conclude the following points -**\n",
    "    \n",
    "1. Cough - Cough doesn't have much effect on corona positivity of the patients . Corona positive and negative patients have        almost equal proportion of patients with and without cough . Although positive patients are more likely to have cough\n",
    "2. Fever - No. of patients with no fever are more in both corona positive and negative patients\n",
    "3. Sore throat - The proportion of people with sore throat is much less than people without sore throat in both the cases\n",
    "4. Shortness of breadth - Most of the positive as well as negative patients don't suffer from shortness of breadth\n",
    "5. Headache - The proportion of people with headache is less than people without headache in both positive and negative cases\n",
    "6. Age 60 and above - Most of the positive as well as negative patients are less than 60 years of age \n",
    "7. Gender - The no. of female patients is greater than male patients in both positive and negative cases\n",
    "8. Contact with confirmed - People with no contact with confirmed are greater in both cases\n",
    "</font> "
   ]
  },
  {
   "cell_type": "markdown",
   "id": "cd454ad3",
   "metadata": {},
   "source": [
    "### Correlation Matrix\n",
    "A correlation matrix is a table showing correlation coefficients between variables .\n",
    "Each cell in table shows correlation between 2 variables . It is used to summarize data , as an input into a more advanced analysis , and as a diagnostic for advanced analysis ."
   ]
  },
  {
   "cell_type": "code",
   "execution_count": 17,
   "id": "7852debc",
   "metadata": {},
   "outputs": [
    {
     "data": {
      "image/png": "[encoded data removed]",
      "text/plain": [
       "<Figure size 720x504 with 2 Axes>"
      ]
     },
     "metadata": {},
     "output_type": "display_data"
    }
   ],
   "source": [
    "cor_mat=df.corr()\n",
    "fig,ax=plt.subplots(figsize=(10,7))\n",
    "ax=sns.heatmap(cor_mat,annot=True,linewidths=0.5,fmt=\".2f\",cmap=\"YlGnBu\")"
   ]
  },
  {
   "cell_type": "markdown",
   "id": "bc037491",
   "metadata": {},
   "source": [
    "# Splitting Data "
   ]
  },
  {
   "cell_type": "code",
   "execution_count": 15,
   "id": "72b9e062",
   "metadata": {},
   "outputs": [],
   "source": [
    "x=df.drop(\"corona_result\",axis=1)\n",
    "y=df[\"corona_result\"]\n",
    "\n",
    "np.random.seed(42)\n",
    "x_train,x_test,y_train,y_test=train_test_split(x,y,test_size=0.2)"
   ]
  },
  {
   "cell_type": "code",
   "execution_count": 16,
   "id": "a82121e5",
   "metadata": {},
   "outputs": [
    {
     "data": {
      "text/plain": [
       "((26733, 8), (6684, 8), (33417, 8))"
      ]
     },
     "execution_count": 16,
     "metadata": {},
     "output_type": "execute_result"
    }
   ],
   "source": [
    "x_train.shape,x_test.shape,x.shape"
   ]
  },
  {
   "cell_type": "code",
   "execution_count": 17,
   "id": "a6770c10",
   "metadata": {},
   "outputs": [
    {
     "data": {
      "text/plain": [
       "((26733,), (6684,), (33417,))"
      ]
     },
     "execution_count": 17,
     "metadata": {},
     "output_type": "execute_result"
    }
   ],
   "source": [
    "y_train.shape,y_test.shape,y.shape"
   ]
  },
  {
   "cell_type": "markdown",
   "id": "036da193",
   "metadata": {},
   "source": [
    "<font color=\"green\">**We observe that our original data contained '33417' entries . We divided that into train and test data containing '26733' and '6684' entries respectively i.e. test data is approximately 20% of total data and train data is 80% of original data**</font>"
   ]
  },
  {
   "cell_type": "markdown",
   "id": "1250b543",
   "metadata": {},
   "source": [
    "# Selecting right model\n"
   ]
  },
  {
   "cell_type": "markdown",
   "id": "ff2551ef",
   "metadata": {},
   "source": [
    "## Trying different models\n",
    "Since we are dealing with a classification problem , we are going to try these 7 models -\n",
    "1. Logistic Regression\n",
    "2. Decision Tree\n",
    "3. K Nearest Neighbours \n",
    "4. Random Forest\n",
    "5. Naïve Bayes\n",
    "6. Stochastic Gradient Descent\n",
    "7. Support Vector Machine"
   ]
  },
  {
   "cell_type": "code",
   "execution_count": 18,
   "id": "68293442",
   "metadata": {},
   "outputs": [],
   "source": [
    "# put models in a dictionary\n",
    "models={\"Logistic Regression\":LogisticRegression(),\n",
    "        \"Decision Tree\":DecisionTreeClassifier(),\n",
    "        \"KNN\":KNeighborsClassifier(),\n",
    "        \"Random Forest\":RandomForestClassifier(),\n",
    "        \"GNB\":GaussianNB(),\n",
    "        \"SGDC\":SGDClassifier(),\n",
    "        \"SVC\":SVC()\n",
    "       }"
   ]
  },
  {
   "cell_type": "code",
   "execution_count": 19,
   "id": "dc49ae26",
   "metadata": {},
   "outputs": [],
   "source": [
    "# create a function to fit and score models\n",
    "def fit_score(models,x_train,x_test,y_train,y_test):\n",
    "    \"\"\"\n",
    "    fits and evaluates given ml models\n",
    "    models:dict of diff sklearn models\n",
    "    x_train:training data(no labels)\n",
    "    x_test:testing data (no labels)\n",
    "    y_train:training labels\n",
    "    y_test:testing labels\n",
    "    \"\"\"\n",
    "    np.random.seed(42)\n",
    "    \n",
    "    model_scores={}\n",
    "    for name,model in models.items():\n",
    "        model.fit(x_train,y_train)\n",
    "        model_scores[name]=model.score(x_test,y_test)\n",
    "    return model_scores"
   ]
  },
  {
   "cell_type": "code",
   "execution_count": 20,
   "id": "0c6b77e2",
   "metadata": {},
   "outputs": [
    {
     "data": {
      "text/plain": [
       "{'Logistic Regression': 0.6154997007779772,\n",
       " 'Decision Tree': 0.6101137043686415,\n",
       " 'KNN': 0.5607420706163974,\n",
       " 'Random Forest': 0.610263315380012,\n",
       " 'GNB': 0.6081687612208259,\n",
       " 'SGDC': 0.5985936564931179,\n",
       " 'SVC': 0.6116098144823459}"
      ]
     },
     "execution_count": 20,
     "metadata": {},
     "output_type": "execute_result"
    }
   ],
   "source": [
    "# checking scores of our models\n",
    "model_scores=fit_score(models,x_train,x_test,y_train,y_test)\n",
    "model_scores"
   ]
  },
  {
   "cell_type": "markdown",
   "id": "c504eb1b",
   "metadata": {},
   "source": [
    "## Model Comparison"
   ]
  },
  {
   "cell_type": "code",
   "execution_count": 24,
   "id": "8b2d5a92",
   "metadata": {},
   "outputs": [
    {
     "data": {
      "image/png": "[encoded data removed]",
      "text/plain": [
       "<Figure size 720x504 with 1 Axes>"
      ]
     },
     "metadata": {},
     "output_type": "display_data"
    }
   ],
   "source": [
    "model_compare=pd.DataFrame(model_scores,index=[\"accuracy\"])\n",
    "model_compare.T.plot(kind=\"bar\",figsize=(10,7),color=\"lightcoral\");"
   ]
  },
  {
   "cell_type": "markdown",
   "id": "b7532bd6",
   "metadata": {},
   "source": [
    "<font color=\"green\">**After analysing model scores and the above plot , we find that `Logistic Regression` , `Decision Tree` , `SVC` and `Random Forest` gives best accuracy. So we will now work on these models .**</font>"
   ]
  },
  {
   "cell_type": "markdown",
   "id": "2045c268",
   "metadata": {},
   "source": [
    "## Hyperparameter tuning with RandomizedSearchCV"
   ]
  },
  {
   "cell_type": "code",
   "execution_count": 65,
   "id": "b969640b",
   "metadata": {},
   "outputs": [],
   "source": [
    "# hyperparameter grid for LogisticRegression()\n",
    "log_reg_grid={\"C\":np.logspace(-4,4,20),\n",
    "              \"solver\":[\"liblinear\"],\n",
    "              'penalty': ['l1', 'l2'],\n",
    "             }\n",
    "\n",
    "\n",
    "# hyperparameter grid for RandomForestClassifier()\n",
    "rf_grid={\"n_estimators\":[100,200,500,800,1500,2500,5000],\n",
    "         \"max_depth\":[None,3,5,10,30,50],\n",
    "         \"max_features\":[\"auto\",\"sqrt\",\"log2\"],\n",
    "         \"min_samples_split\":[2,5,10,15,20],\n",
    "         \"min_samples_leaf\":[1,2,5,10,15]\n",
    "        }\n",
    "\n",
    "# hyperparameter grid for DecisionTreeClassifier()\n",
    "dt_grid={\"criterion\" : ['gini', 'entropy'],\n",
    "         \"max_depth\" : [2,4,6,8,10,12]\n",
    "}\n",
    "\n",
    "# hyperparameter grid for SVC()\n",
    "svc_grid={'C': [1, 10, 100, 1000], \n",
    "         'gamma': [0.001, 0.0001], \n",
    "         'kernel': ['rbf']\n",
    "}"
   ]
  },
  {
   "cell_type": "code",
   "execution_count": 39,
   "id": "6ee124b2",
   "metadata": {},
   "outputs": [],
   "source": [
    "rs_scores={}"
   ]
  },
  {
   "cell_type": "markdown",
   "id": "38ea2124",
   "metadata": {},
   "source": [
    "### tuning LogisticRegression()"
   ]
  },
  {
   "cell_type": "code",
   "execution_count": 40,
   "id": "85195aae",
   "metadata": {},
   "outputs": [
    {
     "name": "stdout",
     "output_type": "stream",
     "text": [
      "Fitting 5 folds for each of 20 candidates, totalling 100 fits\n"
     ]
    },
    {
     "data": {
      "text/plain": [
       "RandomizedSearchCV(estimator=LogisticRegression(), n_iter=20,\n",
       "                   param_distributions={'C': array([1.00000000e-04, 2.63665090e-04, 6.95192796e-04, 1.83298071e-03,\n",
       "       4.83293024e-03, 1.27427499e-02, 3.35981829e-02, 8.85866790e-02,\n",
       "       2.33572147e-01, 6.15848211e-01, 1.62377674e+00, 4.28133240e+00,\n",
       "       1.12883789e+01, 2.97635144e+01, 7.84759970e+01, 2.06913808e+02,\n",
       "       5.45559478e+02, 1.43844989e+03, 3.79269019e+03, 1.00000000e+04]),\n",
       "                                        'penalty': ['l1', 'l2'],\n",
       "                                        'solver': ['liblinear']},\n",
       "                   verbose=True)"
      ]
     },
     "execution_count": 40,
     "metadata": {},
     "output_type": "execute_result"
    }
   ],
   "source": [
    "np.random.seed(42)\n",
    "rs_log_reg=RandomizedSearchCV(LogisticRegression(),param_distributions=log_reg_grid,n_iter=20,verbose=True)\n",
    "rs_log_reg.fit(x_train,y_train)"
   ]
  },
  {
   "cell_type": "code",
   "execution_count": 41,
   "id": "116d1ee8",
   "metadata": {},
   "outputs": [
    {
     "data": {
      "text/plain": [
       "{'solver': 'liblinear', 'penalty': 'l2', 'C': 0.615848211066026}"
      ]
     },
     "execution_count": 41,
     "metadata": {},
     "output_type": "execute_result"
    }
   ],
   "source": [
    "rs_log_reg.best_params_"
   ]
  },
  {
   "cell_type": "code",
   "execution_count": 42,
   "id": "fc2bc1d8",
   "metadata": {},
   "outputs": [
    {
     "data": {
      "text/plain": [
       "0.6154997007779772"
      ]
     },
     "execution_count": 42,
     "metadata": {},
     "output_type": "execute_result"
    }
   ],
   "source": [
    "rs_scores['Logistic Regression']=rs_log_reg.score(x_test,y_test)\n",
    "rs_scores['Logistic Regression']"
   ]
  },
  {
   "cell_type": "markdown",
   "id": "dca2aa63",
   "metadata": {},
   "source": [
    "### tuning RandomForestClassifier()"
   ]
  },
  {
   "cell_type": "code",
   "execution_count": 68,
   "id": "c201ccbe",
   "metadata": {},
   "outputs": [],
   "source": [
    "# np.random.seed(42)\n",
    "# rs_rf=RandomizedSearchCV(RandomForestClassifier(),param_distributions=rf_grid,n_iter=20,verbose=True)\n",
    "# rs_rf.fit(x_train,y_train)"
   ]
  },
  {
   "cell_type": "code",
   "execution_count": null,
   "id": "ca1aa0f2",
   "metadata": {},
   "outputs": [],
   "source": [
    "# rs_rf.best_params_"
   ]
  },
  {
   "cell_type": "code",
   "execution_count": null,
   "id": "2aa00b25",
   "metadata": {},
   "outputs": [],
   "source": [
    "# rs_scores[\"Random Forest\"]=rs_rf.score(x_test,y_test)\n",
    "# rs_scores[\"Random Forest\"]"
   ]
  },
  {
   "cell_type": "markdown",
   "id": "027a957e",
   "metadata": {},
   "source": [
    "### tuning DecisionTreeClassifier()"
   ]
  },
  {
   "cell_type": "code",
   "execution_count": 43,
   "id": "6eacae16",
   "metadata": {},
   "outputs": [
    {
     "name": "stderr",
     "output_type": "stream",
     "text": [
      "C:\\Users\\sunshine\\Desktop\\ml_and_data_sciene\\sample\\env\\lib\\site-packages\\sklearn\\model_selection\\_search.py:285: UserWarning: The total space of parameters 12 is smaller than n_iter=20. Running 12 iterations. For exhaustive searches, use GridSearchCV.\n",
      "  warnings.warn(\n"
     ]
    },
    {
     "name": "stdout",
     "output_type": "stream",
     "text": [
      "Fitting 5 folds for each of 12 candidates, totalling 60 fits\n"
     ]
    },
    {
     "data": {
      "text/plain": [
       "RandomizedSearchCV(estimator=DecisionTreeClassifier(), n_iter=20,\n",
       "                   param_distributions={'criterion': ['gini', 'entropy'],\n",
       "                                        'max_depth': [2, 4, 6, 8, 10, 12]},\n",
       "                   verbose=True)"
      ]
     },
     "execution_count": 43,
     "metadata": {},
     "output_type": "execute_result"
    }
   ],
   "source": [
    "np.random.seed(42)\n",
    "rs_dt=RandomizedSearchCV(DecisionTreeClassifier(),param_distributions=dt_grid,n_iter=20,verbose=True)\n",
    "rs_dt.fit(x_train,y_train)"
   ]
  },
  {
   "cell_type": "code",
   "execution_count": 44,
   "id": "551c666a",
   "metadata": {},
   "outputs": [
    {
     "data": {
      "text/plain": [
       "{'max_depth': 4, 'criterion': 'gini'}"
      ]
     },
     "execution_count": 44,
     "metadata": {},
     "output_type": "execute_result"
    }
   ],
   "source": [
    "rs_dt.best_params_"
   ]
  },
  {
   "cell_type": "code",
   "execution_count": 45,
   "id": "9f768235",
   "metadata": {},
   "outputs": [
    {
     "data": {
      "text/plain": [
       "0.6190903650508678"
      ]
     },
     "execution_count": 45,
     "metadata": {},
     "output_type": "execute_result"
    }
   ],
   "source": [
    "rs_scores['Decision Tree']=rs_dt.score(x_test,y_test)\n",
    "rs_scores['Decision Tree']"
   ]
  },
  {
   "cell_type": "markdown",
   "id": "ff26b01c",
   "metadata": {},
   "source": [
    "### tuning SVC()"
   ]
  },
  {
   "cell_type": "code",
   "execution_count": 30,
   "id": "8e609add",
   "metadata": {},
   "outputs": [],
   "source": [
    "# np.random.seed(42)\n",
    "# rs_svc=RandomizedSearchCV(SVC(),param_distributions=svc_grid,n_iter=20,verbose=True)\n",
    "# rs_svc.fit(x_train,y_train)"
   ]
  },
  {
   "cell_type": "code",
   "execution_count": null,
   "id": "92fe23c0",
   "metadata": {},
   "outputs": [],
   "source": [
    "# rs_svc.best_params_"
   ]
  },
  {
   "cell_type": "code",
   "execution_count": null,
   "id": "4f4594d1",
   "metadata": {},
   "outputs": [],
   "source": [
    "# rs_scores['SVC']=rs_svc.score(x_test,y_test)\n",
    "# rs_scores['SVC']"
   ]
  },
  {
   "cell_type": "markdown",
   "id": "043100d2",
   "metadata": {},
   "source": [
    "### RandomizedSearchCV model comparison\n",
    "Even after changing hyper parameters using RandomizedSearchCV , we couldn't improve the score much ."
   ]
  },
  {
   "cell_type": "markdown",
   "id": "6bfae84b",
   "metadata": {},
   "source": [
    "## Hyperparameter tuning with GridSearchCV"
   ]
  },
  {
   "cell_type": "code",
   "execution_count": 36,
   "id": "b0298336",
   "metadata": {},
   "outputs": [],
   "source": [
    "gs_scores={}"
   ]
  },
  {
   "cell_type": "code",
   "execution_count": 58,
   "id": "12aba684",
   "metadata": {},
   "outputs": [],
   "source": [
    "# hyperparameter grid for LogisticRegression()\n",
    "log_reg_grid={\"C\":np.logspace(-1,1,20),\n",
    "              \"solver\":[\"liblinear\"],\n",
    "              'penalty': ['l2'],\n",
    "             }\n",
    "\n",
    "\n",
    "# hyperparameter grid for RandomForestClassifier()\n",
    "rf_grid={\"n_estimators\":np.arange(100,300,50),\n",
    "         \"max_depth\":[None,3],\n",
    "         \"min_samples_split\":np.arange(2,10,2),\n",
    "         \"min_samples_leaf\":np.arange(10,20,4)\n",
    "        }\n",
    "\n",
    "# hyperparameter grid for DecisionTreeClassifier()\n",
    "dt_grid={\"criterion\" : ['gini'],\n",
    "         \"max_depth\" : [2,4,6]\n",
    "}\n",
    "\n",
    "# hyperparameter grid for SVC()\n",
    "svc_grid={'C': [1, 10, 100, 1000], \n",
    "         'gamma': [0.001, 0.0001], \n",
    "         'kernel': ['rbf']\n",
    "         }"
   ]
  },
  {
   "cell_type": "markdown",
   "id": "332ccd78",
   "metadata": {},
   "source": [
    "### tuning LogisticRegression()"
   ]
  },
  {
   "cell_type": "code",
   "execution_count": 47,
   "id": "aa34bd8e",
   "metadata": {},
   "outputs": [
    {
     "name": "stdout",
     "output_type": "stream",
     "text": [
      "Fitting 5 folds for each of 20 candidates, totalling 100 fits\n"
     ]
    },
    {
     "data": {
      "text/plain": [
       "GridSearchCV(estimator=LogisticRegression(),\n",
       "             param_grid={'C': array([ 0.1       ,  0.1274275 ,  0.16237767,  0.20691381,  0.26366509,\n",
       "        0.33598183,  0.42813324,  0.54555948,  0.6951928 ,  0.88586679,\n",
       "        1.12883789,  1.43844989,  1.83298071,  2.33572147,  2.97635144,\n",
       "        3.79269019,  4.83293024,  6.15848211,  7.8475997 , 10.        ]),\n",
       "                         'penalty': ['l2'], 'solver': ['liblinear']},\n",
       "             verbose=True)"
      ]
     },
     "execution_count": 47,
     "metadata": {},
     "output_type": "execute_result"
    }
   ],
   "source": [
    "gs_log_reg=GridSearchCV(LogisticRegression(),param_grid=log_reg_grid,verbose=True)\n",
    "gs_log_reg.fit(x_train,y_train)"
   ]
  },
  {
   "cell_type": "code",
   "execution_count": 48,
   "id": "809956ae",
   "metadata": {},
   "outputs": [
    {
     "data": {
      "text/plain": [
       "{'C': 0.1, 'penalty': 'l2', 'solver': 'liblinear'}"
      ]
     },
     "execution_count": 48,
     "metadata": {},
     "output_type": "execute_result"
    }
   ],
   "source": [
    "gs_log_reg.best_params_"
   ]
  },
  {
   "cell_type": "code",
   "execution_count": 49,
   "id": "1258656e",
   "metadata": {},
   "outputs": [
    {
     "data": {
      "text/plain": [
       "0.6154997007779772"
      ]
     },
     "execution_count": 49,
     "metadata": {},
     "output_type": "execute_result"
    }
   ],
   "source": [
    "gs_scores[\"Logistic Regression\"]=gs_log_reg.score(x_test,y_test)\n",
    "gs_scores[\"Logistic Regression\"]"
   ]
  },
  {
   "cell_type": "markdown",
   "id": "e250bc57",
   "metadata": {},
   "source": [
    "### tuning DecisionTreeClassifier()"
   ]
  },
  {
   "cell_type": "code",
   "execution_count": 60,
   "id": "af68b33f",
   "metadata": {},
   "outputs": [
    {
     "name": "stdout",
     "output_type": "stream",
     "text": [
      "Fitting 5 folds for each of 3 candidates, totalling 15 fits\n"
     ]
    },
    {
     "data": {
      "text/plain": [
       "GridSearchCV(estimator=DecisionTreeClassifier(),\n",
       "             param_grid={'criterion': ['gini'], 'max_depth': [2, 4, 6]},\n",
       "             verbose=True)"
      ]
     },
     "execution_count": 60,
     "metadata": {},
     "output_type": "execute_result"
    }
   ],
   "source": [
    "gs_dt=GridSearchCV(DecisionTreeClassifier(),param_grid=dt_grid,verbose=True)\n",
    "gs_dt.fit(x_train,y_train)"
   ]
  },
  {
   "cell_type": "code",
   "execution_count": 61,
   "id": "8b05393d",
   "metadata": {},
   "outputs": [
    {
     "data": {
      "text/plain": [
       "{'criterion': 'gini', 'max_depth': 4}"
      ]
     },
     "execution_count": 61,
     "metadata": {},
     "output_type": "execute_result"
    }
   ],
   "source": [
    "gs_dt.best_params_"
   ]
  },
  {
   "cell_type": "code",
   "execution_count": 62,
   "id": "f9119405",
   "metadata": {},
   "outputs": [
    {
     "data": {
      "text/plain": [
       "0.6190903650508678"
      ]
     },
     "execution_count": 62,
     "metadata": {},
     "output_type": "execute_result"
    }
   ],
   "source": [
    "gs_scores[\"Decision Tree\"]=gs_dt.score(x_test,y_test)\n",
    "gs_scores[\"Decision Tree\"]"
   ]
  },
  {
   "cell_type": "markdown",
   "id": "4efb3591",
   "metadata": {},
   "source": [
    "## Model Comparison"
   ]
  },
  {
   "cell_type": "code",
   "execution_count": 69,
   "id": "3a4a8383",
   "metadata": {},
   "outputs": [
    {
     "data": {
      "text/plain": [
       "{'Logistic Regression': 0.6154997007779772,\n",
       " 'Decision Tree': 0.6101137043686415,\n",
       " 'KNN': 0.5607420706163974,\n",
       " 'Random Forest': 0.610263315380012,\n",
       " 'GNB': 0.6081687612208259,\n",
       " 'SGDC': 0.5985936564931179,\n",
       " 'SVC': 0.6116098144823459}"
      ]
     },
     "execution_count": 69,
     "metadata": {},
     "output_type": "execute_result"
    }
   ],
   "source": [
    "model_scores"
   ]
  },
  {
   "cell_type": "code",
   "execution_count": 91,
   "id": "69959976",
   "metadata": {},
   "outputs": [
    {
     "data": {
      "text/plain": [
       "{'Logistic Regression': 0.6154997007779772,\n",
       " 'Decision Tree': 0.6190903650508678,\n",
       " 'KNN': 0,\n",
       " 'Random Forest': 0,\n",
       " 'GNB': 0,\n",
       " 'SGDC': 0,\n",
       " 'SVC': 0}"
      ]
     },
     "execution_count": 91,
     "metadata": {},
     "output_type": "execute_result"
    }
   ],
   "source": [
    "rs_scores['KNN']=0\n",
    "rs_scores['Random Forest']=0\n",
    "rs_scores['GNB']=0\n",
    "rs_scores['SGDC']=0\n",
    "rs_scores['SVC']=0\n",
    "rs_scores"
   ]
  },
  {
   "cell_type": "code",
   "execution_count": 101,
   "id": "a815b22d",
   "metadata": {},
   "outputs": [
    {
     "data": {
      "text/plain": [
       "{'Logistic Regression': 0.6154997007779772,\n",
       " 'Decision Tree': 0.6190903650508678,\n",
       " 'KNN': 0,\n",
       " 'Random Forest': 0,\n",
       " 'GNB': 0,\n",
       " 'SGDC': 0,\n",
       " 'SVC': 0}"
      ]
     },
     "execution_count": 101,
     "metadata": {},
     "output_type": "execute_result"
    }
   ],
   "source": [
    "gs_scores['KNN']=0\n",
    "gs_scores['Random Forest']=0\n",
    "gs_scores['GNB']=0\n",
    "gs_scores['SGDC']=0\n",
    "gs_scores['SVC']=0\n",
    "gs_scores"
   ]
  },
  {
   "cell_type": "code",
   "execution_count": 108,
   "id": "ea35e930",
   "metadata": {},
   "outputs": [
    {
     "data": {
      "image/png": "[encoded data removed]",
      "text/plain": [
       "<Figure size 1080x504 with 1 Axes>"
      ]
     },
     "metadata": {},
     "output_type": "display_data"
    }
   ],
   "source": [
    "plt.style.use(\"seaborn-whitegrid\")\n",
    "model_compare={\"default hyperparameters\":model_scores,\n",
    "               \"random search cv\":rs_scores,\n",
    "               \"grid search cv\":gs_scores\n",
    "              }\n",
    "pd.DataFrame(model_compare).plot(kind=\"bar\",figsize=(15,7),color=[\"salmon\",\"lightblue\",\"gold\"])\n",
    "plt.show()"
   ]
  },
  {
   "cell_type": "markdown",
   "id": "1d110fce",
   "metadata": {},
   "source": [
    "<font color=\"green\">**From above analysis we observe that the maximum accuracy that we can get is `0.6190903650508678` by setting hyperparameters of `Decision Tree` . So we will move further with this model only !!** </font>"
   ]
  },
  {
   "cell_type": "markdown",
   "id": "5c07330e",
   "metadata": {},
   "source": [
    "# Evaluating our ML classifier beyond accuracy"
   ]
  },
  {
   "cell_type": "code",
   "execution_count": 109,
   "id": "94718d08",
   "metadata": {},
   "outputs": [
    {
     "data": {
      "text/plain": [
       "array([1, 1, 1, ..., 1, 1, 1])"
      ]
     },
     "execution_count": 109,
     "metadata": {},
     "output_type": "execute_result"
    }
   ],
   "source": [
    "# make predictions with our tuned  model\n",
    "y_preds=gs_dt.predict(x_test)\n",
    "y_preds"
   ]
  },
  {
   "cell_type": "code",
   "execution_count": 110,
   "id": "5eeeae3d",
   "metadata": {},
   "outputs": [
    {
     "data": {
      "text/plain": [
       "<PandasArray>\n",
       "[1, 1, 1, 1, 1, 0, 0, 0, 1, 0,\n",
       " ...\n",
       " 1, 0, 1, 1, 1, 1, 0, 1, 0, 1]\n",
       "Length: 6684, dtype: int32"
      ]
     },
     "execution_count": 110,
     "metadata": {},
     "output_type": "execute_result"
    }
   ],
   "source": [
    "pd.array(y_test)"
   ]
  },
  {
   "cell_type": "markdown",
   "id": "61585029",
   "metadata": {},
   "source": [
    "## ROC Curve and AUC"
   ]
  },
  {
   "cell_type": "code",
   "execution_count": 112,
   "id": "7f0d7823",
   "metadata": {},
   "outputs": [
    {
     "data": {
      "image/png": "[encoded data removed]",
      "text/plain": [
       "<Figure size 432x288 with 1 Axes>"
      ]
     },
     "metadata": {},
     "output_type": "display_data"
    }
   ],
   "source": [
    "# plot ROC curve and calculate AUC metric\n",
    "plot_roc_curve(gs_dt,x_test,y_test);"
   ]
  },
  {
   "cell_type": "markdown",
   "id": "9c1cc9cc",
   "metadata": {},
   "source": [
    "## Confusion Matrix"
   ]
  },
  {
   "cell_type": "code",
   "execution_count": 113,
   "id": "78adacf2",
   "metadata": {},
   "outputs": [
    {
     "name": "stdout",
     "output_type": "stream",
     "text": [
      "[[ 739 1944]\n",
      " [ 602 3399]]\n"
     ]
    }
   ],
   "source": [
    "print(confusion_matrix(y_test,y_preds))"
   ]
  },
  {
   "cell_type": "code",
   "execution_count": 125,
   "id": "50511958",
   "metadata": {},
   "outputs": [
    {
     "data": {
      "image/png": "[encoded data removed]",
      "text/plain": [
       "<Figure size 216x216 with 1 Axes>"
      ]
     },
     "metadata": {},
     "output_type": "display_data"
    }
   ],
   "source": [
    "sns.set(font_scale=1.5)\n",
    "\n",
    "def plot_conf_mat(y_test,y_pred):\n",
    "    \"\"\"\n",
    "    plots a nice looking confusion matrix using seaborn heatmap()\n",
    "    \"\"\"\n",
    "    fig,ax=plt.subplots(figsize=(3,3))\n",
    "    ax=sns.heatmap(confusion_matrix(y_test,y_preds),annot=True,cbar=False,cmap=\"YlGnBu\")\n",
    "    plt.xlabel(\"true label\")\n",
    "    plt.ylabel(\"predicted label\")\n",
    "    \n",
    "plot_conf_mat(y_test,y_preds)"
   ]
  },
  {
   "cell_type": "markdown",
   "id": "66e6f719",
   "metadata": {},
   "source": [
    "## Classification Report ( precision , recall , f1 )"
   ]
  },
  {
   "cell_type": "code",
   "execution_count": 128,
   "id": "2c1a1592",
   "metadata": {},
   "outputs": [
    {
     "name": "stdout",
     "output_type": "stream",
     "text": [
      "              precision    recall  f1-score   support\n",
      "\n",
      "           0       0.55      0.28      0.37      2683\n",
      "           1       0.64      0.85      0.73      4001\n",
      "\n",
      "    accuracy                           0.62      6684\n",
      "   macro avg       0.59      0.56      0.55      6684\n",
      "weighted avg       0.60      0.62      0.58      6684\n",
      "\n"
     ]
    }
   ],
   "source": [
    "print(classification_report(y_test,y_preds))"
   ]
  },
  {
   "cell_type": "code",
   "execution_count": null,
   "id": "1e4ea3a6",
   "metadata": {},
   "outputs": [],
   "source": []
  }
 ],
 "metadata": {
  "kernelspec": {
   "display_name": "Python 3",
   "language": "python",
   "name": "python3"
  },
  "language_info": {
   "codemirror_mode": {
    "name": "ipython",
    "version": 3
   },
   "file_extension": ".py",
   "mimetype": "text/x-python",
   "name": "python",
   "nbconvert_exporter": "python",
   "pygments_lexer": "ipython3",
   "version": "3.9.5"
  }
 },
 "nbformat": 4,
 "nbformat_minor": 5
}
